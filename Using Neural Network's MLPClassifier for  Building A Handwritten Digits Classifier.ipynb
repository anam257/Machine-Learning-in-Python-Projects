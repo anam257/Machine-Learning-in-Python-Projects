{
 "cells": [
  {
   "cell_type": "markdown",
   "metadata": {},
   "source": [
    "# Introduction\n",
    "\n",
    "In this Project, I'll:\n",
    "\n",
    "- explore why image classification is a hard task\n",
    "- observe the limitations of traditional machine learning models for image classification\n",
    "- train, test, and improve a few different deep neural networks for image classification\n",
    "\n",
    "Project Data:\n",
    "\n",
    "Scikit-learn contains a number of datasets pre-loaded with the library, within the namespace of sklearn.datasets. The load_digits() function returns a copy of the [hand-written digits dataset from UCI](http://archive.ics.uci.edu/ml/datasets/Optical+Recognition+of+Handwritten+Digits)."
   ]
  },
  {
   "cell_type": "code",
   "execution_count": 1,
   "metadata": {},
   "outputs": [],
   "source": [
    "import pandas as pd\n",
    "import numpy as np\n",
    "from sklearn.datasets import load_digits\n",
    "import matplotlib.pyplot as plt\n",
    "from sklearn.neighbors import KNeighborsClassifier\n",
    "from sklearn.model_selection import KFold\n",
    "from sklearn.metrics import mean_squared_error\n",
    "from sklearn.neural_network import MLPClassifier\n"
   ]
  },
  {
   "cell_type": "code",
   "execution_count": 2,
   "metadata": {},
   "outputs": [
    {
     "data": {
      "text/plain": [
       "{'data': array([[ 0.,  0.,  5., ...,  0.,  0.,  0.],\n",
       "        [ 0.,  0.,  0., ..., 10.,  0.,  0.],\n",
       "        [ 0.,  0.,  0., ..., 16.,  9.,  0.],\n",
       "        ...,\n",
       "        [ 0.,  0.,  1., ...,  6.,  0.,  0.],\n",
       "        [ 0.,  0.,  2., ..., 12.,  0.,  0.],\n",
       "        [ 0.,  0., 10., ..., 12.,  1.,  0.]]),\n",
       " 'target': array([0, 1, 2, ..., 8, 9, 8]),\n",
       " 'target_names': array([0, 1, 2, 3, 4, 5, 6, 7, 8, 9]),\n",
       " 'images': array([[[ 0.,  0.,  5., ...,  1.,  0.,  0.],\n",
       "         [ 0.,  0., 13., ..., 15.,  5.,  0.],\n",
       "         [ 0.,  3., 15., ..., 11.,  8.,  0.],\n",
       "         ...,\n",
       "         [ 0.,  4., 11., ..., 12.,  7.,  0.],\n",
       "         [ 0.,  2., 14., ..., 12.,  0.,  0.],\n",
       "         [ 0.,  0.,  6., ...,  0.,  0.,  0.]],\n",
       " \n",
       "        [[ 0.,  0.,  0., ...,  5.,  0.,  0.],\n",
       "         [ 0.,  0.,  0., ...,  9.,  0.,  0.],\n",
       "         [ 0.,  0.,  3., ...,  6.,  0.,  0.],\n",
       "         ...,\n",
       "         [ 0.,  0.,  1., ...,  6.,  0.,  0.],\n",
       "         [ 0.,  0.,  1., ...,  6.,  0.,  0.],\n",
       "         [ 0.,  0.,  0., ..., 10.,  0.,  0.]],\n",
       " \n",
       "        [[ 0.,  0.,  0., ..., 12.,  0.,  0.],\n",
       "         [ 0.,  0.,  3., ..., 14.,  0.,  0.],\n",
       "         [ 0.,  0.,  8., ..., 16.,  0.,  0.],\n",
       "         ...,\n",
       "         [ 0.,  9., 16., ...,  0.,  0.,  0.],\n",
       "         [ 0.,  3., 13., ..., 11.,  5.,  0.],\n",
       "         [ 0.,  0.,  0., ..., 16.,  9.,  0.]],\n",
       " \n",
       "        ...,\n",
       " \n",
       "        [[ 0.,  0.,  1., ...,  1.,  0.,  0.],\n",
       "         [ 0.,  0., 13., ...,  2.,  1.,  0.],\n",
       "         [ 0.,  0., 16., ..., 16.,  5.,  0.],\n",
       "         ...,\n",
       "         [ 0.,  0., 16., ..., 15.,  0.,  0.],\n",
       "         [ 0.,  0., 15., ..., 16.,  0.,  0.],\n",
       "         [ 0.,  0.,  2., ...,  6.,  0.,  0.]],\n",
       " \n",
       "        [[ 0.,  0.,  2., ...,  0.,  0.,  0.],\n",
       "         [ 0.,  0., 14., ..., 15.,  1.,  0.],\n",
       "         [ 0.,  4., 16., ..., 16.,  7.,  0.],\n",
       "         ...,\n",
       "         [ 0.,  0.,  0., ..., 16.,  2.,  0.],\n",
       "         [ 0.,  0.,  4., ..., 16.,  2.,  0.],\n",
       "         [ 0.,  0.,  5., ..., 12.,  0.,  0.]],\n",
       " \n",
       "        [[ 0.,  0., 10., ...,  1.,  0.,  0.],\n",
       "         [ 0.,  2., 16., ...,  1.,  0.,  0.],\n",
       "         [ 0.,  0., 15., ..., 15.,  0.,  0.],\n",
       "         ...,\n",
       "         [ 0.,  4., 16., ..., 16.,  6.,  0.],\n",
       "         [ 0.,  8., 16., ..., 16.,  8.,  0.],\n",
       "         [ 0.,  1.,  8., ..., 12.,  1.,  0.]]]),\n",
       " 'DESCR': \".. _digits_dataset:\\n\\nOptical recognition of handwritten digits dataset\\n--------------------------------------------------\\n\\n**Data Set Characteristics:**\\n\\n    :Number of Instances: 5620\\n    :Number of Attributes: 64\\n    :Attribute Information: 8x8 image of integer pixels in the range 0..16.\\n    :Missing Attribute Values: None\\n    :Creator: E. Alpaydin (alpaydin '@' boun.edu.tr)\\n    :Date: July; 1998\\n\\nThis is a copy of the test set of the UCI ML hand-written digits datasets\\nhttps://archive.ics.uci.edu/ml/datasets/Optical+Recognition+of+Handwritten+Digits\\n\\nThe data set contains images of hand-written digits: 10 classes where\\neach class refers to a digit.\\n\\nPreprocessing programs made available by NIST were used to extract\\nnormalized bitmaps of handwritten digits from a preprinted form. From a\\ntotal of 43 people, 30 contributed to the training set and different 13\\nto the test set. 32x32 bitmaps are divided into nonoverlapping blocks of\\n4x4 and the number of on pixels are counted in each block. This generates\\nan input matrix of 8x8 where each element is an integer in the range\\n0..16. This reduces dimensionality and gives invariance to small\\ndistortions.\\n\\nFor info on NIST preprocessing routines, see M. D. Garris, J. L. Blue, G.\\nT. Candela, D. L. Dimmick, J. Geist, P. J. Grother, S. A. Janet, and C.\\nL. Wilson, NIST Form-Based Handprint Recognition System, NISTIR 5469,\\n1994.\\n\\n.. topic:: References\\n\\n  - C. Kaynak (1995) Methods of Combining Multiple Classifiers and Their\\n    Applications to Handwritten Digit Recognition, MSc Thesis, Institute of\\n    Graduate Studies in Science and Engineering, Bogazici University.\\n  - E. Alpaydin, C. Kaynak (1998) Cascading Classifiers, Kybernetika.\\n  - Ken Tang and Ponnuthurai N. Suganthan and Xi Yao and A. Kai Qin.\\n    Linear dimensionalityreduction using relevance weighted LDA. School of\\n    Electrical and Electronic Engineering Nanyang Technological University.\\n    2005.\\n  - Claudio Gentile. A New Approximate Maximal Margin Classification\\n    Algorithm. NIPS. 2000.\"}"
      ]
     },
     "execution_count": 2,
     "metadata": {},
     "output_type": "execute_result"
    }
   ],
   "source": [
    "digits=load_digits()\n",
    "digits"
   ]
  },
  {
   "cell_type": "markdown",
   "metadata": {},
   "source": [
    "**REMARK** \n",
    "\n",
    "Attributes are 8x8 image of integer pixels in the range 0..16.\n",
    "Number of Attributes:64\n",
    "\n",
    "\n"
   ]
  },
  {
   "cell_type": "code",
   "execution_count": 3,
   "metadata": {
    "scrolled": true
   },
   "outputs": [
    {
     "data": {
      "text/plain": [
       "dict_keys(['data', 'target', 'target_names', 'images', 'DESCR'])"
      ]
     },
     "execution_count": 3,
     "metadata": {},
     "output_type": "execute_result"
    }
   ],
   "source": [
    "digits.keys()\n"
   ]
  },
  {
   "cell_type": "markdown",
   "metadata": {},
   "source": [
    "### Transform data to dataframe\n"
   ]
  },
  {
   "cell_type": "code",
   "execution_count": 4,
   "metadata": {},
   "outputs": [],
   "source": [
    "data= pd.DataFrame(data= digits.data)\n",
    "target = pd.Series(digits['target'])\n",
    "images = digits['images']\n",
    "target_names = digits['target_names']"
   ]
  },
  {
   "cell_type": "code",
   "execution_count": 5,
   "metadata": {},
   "outputs": [
    {
     "data": {
      "text/plain": [
       "((1797,), (1797, 64), (1797, 8, 8))"
      ]
     },
     "execution_count": 5,
     "metadata": {},
     "output_type": "execute_result"
    }
   ],
   "source": [
    "target.shape, data.shape,images.shape"
   ]
  },
  {
   "cell_type": "markdown",
   "metadata": {},
   "source": [
    "### Attributes of the imported data:\n",
    "\n",
    "**We  can visually check that the images and the data are related by reshaping the images array to two dimensions**: digits.images.reshape((1797, 64))\n",
    "\n",
    "- **data’: the data to learn**\n",
    "- **‘images’**: the images corresponding to each sample\n",
    "    - images data contains three dimensions: there are 1797 instances that are 8 by 8 pixels \n",
    "- **‘target’: the classification labels for each sample**\n",
    "    - All target values contain 10 unique values, namely, from 0 to 9. In other words, all 1797 target values are made up of numbers that lie between 0 and 9. \n",
    "- **‘target_names’**: the meaning of the labels\n",
    "- 'DESCR’: the full description of the dataset.\n",
    "\n",
    "Note: pixel values are integers that range from 0 (black) to 255 (white).\n",
    "\n",
    "We are interested in attributes data and target."
   ]
  },
  {
   "cell_type": "code",
   "execution_count": 6,
   "metadata": {},
   "outputs": [
    {
     "data": {
      "text/html": [
       "<div>\n",
       "<style scoped>\n",
       "    .dataframe tbody tr th:only-of-type {\n",
       "        vertical-align: middle;\n",
       "    }\n",
       "\n",
       "    .dataframe tbody tr th {\n",
       "        vertical-align: top;\n",
       "    }\n",
       "\n",
       "    .dataframe thead th {\n",
       "        text-align: right;\n",
       "    }\n",
       "</style>\n",
       "<table border=\"1\" class=\"dataframe\">\n",
       "  <thead>\n",
       "    <tr style=\"text-align: right;\">\n",
       "      <th></th>\n",
       "      <th>0</th>\n",
       "      <th>1</th>\n",
       "      <th>2</th>\n",
       "      <th>3</th>\n",
       "      <th>4</th>\n",
       "      <th>5</th>\n",
       "      <th>6</th>\n",
       "      <th>7</th>\n",
       "      <th>8</th>\n",
       "      <th>9</th>\n",
       "      <th>...</th>\n",
       "      <th>54</th>\n",
       "      <th>55</th>\n",
       "      <th>56</th>\n",
       "      <th>57</th>\n",
       "      <th>58</th>\n",
       "      <th>59</th>\n",
       "      <th>60</th>\n",
       "      <th>61</th>\n",
       "      <th>62</th>\n",
       "      <th>63</th>\n",
       "    </tr>\n",
       "  </thead>\n",
       "  <tbody>\n",
       "    <tr>\n",
       "      <th>0</th>\n",
       "      <td>0.0</td>\n",
       "      <td>0.0</td>\n",
       "      <td>5.0</td>\n",
       "      <td>13.0</td>\n",
       "      <td>9.0</td>\n",
       "      <td>1.0</td>\n",
       "      <td>0.0</td>\n",
       "      <td>0.0</td>\n",
       "      <td>0.0</td>\n",
       "      <td>0.0</td>\n",
       "      <td>...</td>\n",
       "      <td>0.0</td>\n",
       "      <td>0.0</td>\n",
       "      <td>0.0</td>\n",
       "      <td>0.0</td>\n",
       "      <td>6.0</td>\n",
       "      <td>13.0</td>\n",
       "      <td>10.0</td>\n",
       "      <td>0.0</td>\n",
       "      <td>0.0</td>\n",
       "      <td>0.0</td>\n",
       "    </tr>\n",
       "    <tr>\n",
       "      <th>1</th>\n",
       "      <td>0.0</td>\n",
       "      <td>0.0</td>\n",
       "      <td>0.0</td>\n",
       "      <td>12.0</td>\n",
       "      <td>13.0</td>\n",
       "      <td>5.0</td>\n",
       "      <td>0.0</td>\n",
       "      <td>0.0</td>\n",
       "      <td>0.0</td>\n",
       "      <td>0.0</td>\n",
       "      <td>...</td>\n",
       "      <td>0.0</td>\n",
       "      <td>0.0</td>\n",
       "      <td>0.0</td>\n",
       "      <td>0.0</td>\n",
       "      <td>0.0</td>\n",
       "      <td>11.0</td>\n",
       "      <td>16.0</td>\n",
       "      <td>10.0</td>\n",
       "      <td>0.0</td>\n",
       "      <td>0.0</td>\n",
       "    </tr>\n",
       "  </tbody>\n",
       "</table>\n",
       "<p>2 rows × 64 columns</p>\n",
       "</div>"
      ],
      "text/plain": [
       "    0    1    2     3     4    5    6    7    8    9   ...   54   55   56  \\\n",
       "0  0.0  0.0  5.0  13.0   9.0  1.0  0.0  0.0  0.0  0.0  ...  0.0  0.0  0.0   \n",
       "1  0.0  0.0  0.0  12.0  13.0  5.0  0.0  0.0  0.0  0.0  ...  0.0  0.0  0.0   \n",
       "\n",
       "    57   58    59    60    61   62   63  \n",
       "0  0.0  6.0  13.0  10.0   0.0  0.0  0.0  \n",
       "1  0.0  0.0  11.0  16.0  10.0  0.0  0.0  \n",
       "\n",
       "[2 rows x 64 columns]"
      ]
     },
     "execution_count": 6,
     "metadata": {},
     "output_type": "execute_result"
    }
   ],
   "source": [
    "data.head(2)"
   ]
  },
  {
   "cell_type": "markdown",
   "metadata": {},
   "source": [
    "### Visualizing some of the images\n",
    "\n",
    "Because dataframes are a tabular representation of data, each image is represented as a row of pixel values. To visualize an image from the dataframe, we need to reshape the image back to its original dimensions (8 x 8 pixels). To visualize the image, we need to reshape these pixel values back into the 8 by 8 and plot them on a coordinate grid."
   ]
  },
  {
   "cell_type": "code",
   "execution_count": 7,
   "metadata": {},
   "outputs": [
    {
     "name": "stdout",
     "output_type": "stream",
     "text": [
      "[ 0.  0.  5. 13.  9.  1.  0.  0.  0.  0. 13. 15. 10. 15.  5.  0.  0.  3.\n",
      " 15.  2.  0. 11.  8.  0.  0.  4. 12.  0.  0.  8.  8.  0.  0.  5.  8.  0.\n",
      "  0.  9.  8.  0.  0.  4. 11.  0.  1. 12.  7.  0.  0.  2. 14.  5. 10. 12.\n",
      "  0.  0.  0.  0.  6. 13. 10.  0.  0.  0.]\n"
     ]
    },
    {
     "data": {
      "text/plain": [
       "<matplotlib.image.AxesImage at 0x1e84016a588>"
      ]
     },
     "execution_count": 7,
     "metadata": {},
     "output_type": "execute_result"
    },
    {
     "data": {
      "image/png": "[encoded data removed]",
      "text/plain": [
       "<Figure size 432x288 with 1 Axes>"
      ]
     },
     "metadata": {
      "needs_background": "light"
     },
     "output_type": "display_data"
    }
   ],
   "source": [
    "# Visualizing first image\n",
    "\n",
    "first_image = data.iloc[0]\n",
    "np_image = first_image.values\n",
    "print(np_image)\n",
    "# Reshaping first row from data to original pixel(i.e 8 X 8 matrix)\n",
    "np_image = np_image.reshape(8,8)\n",
    "\n",
    "plt.imshow(np_image, cmap='gray_r')\n"
   ]
  },
  {
   "cell_type": "markdown",
   "metadata": {},
   "source": [
    "Let's visualize a scatter plot grid, with 2 rows and 4 columns.\n",
    "- In the first row:\n",
    "        Display the images corresponding to rows 0, 100, 200, and 300.\n",
    "- In the second row:\n",
    "        Display the images corresponding to rows 1000, 1100, 1200, and 1300."
   ]
  },
  {
   "cell_type": "code",
   "execution_count": 8,
   "metadata": {
    "scrolled": true
   },
   "outputs": [
    {
     "data": {
      "image/png": "[encoded data removed]",
      "text/plain": [
       "<Figure size 576x360 with 8 Axes>"
      ]
     },
     "metadata": {
      "needs_background": "light"
     },
     "output_type": "display_data"
    }
   ],
   "source": [
    "first_row=[0,100,200,300]\n",
    "second_row=[1000,1100,1200,1300]\n",
    "fig = plt.figure(figsize=(8,5))\n",
    "i=0\n",
    "for val in first_row:\n",
    "    plt.subplot(2,4,i+1)\n",
    "    image = data.iloc[val]\n",
    "    np_image = image.values\n",
    "    np_image = np_image.reshape(8,8)\n",
    "    plt.imshow(np_image, cmap='gray_r')\n",
    "    plt.title(target[val])\n",
    "    plt.axis('off')\n",
    "    i +=1\n",
    "for val in second_row:\n",
    "    plt.subplot(2,4,i+1)\n",
    "    plt.imshow(images[val], cmap='gray_r')\n",
    "    plt.title(target[val])\n",
    "    plt.axis('off')\n",
    "    i +=1\n",
    "\n"
   ]
  },
  {
   "cell_type": "markdown",
   "metadata": {},
   "source": [
    "### Choosing metrics\n",
    "\n",
    "Generally classifications are measured on indicators such as percentage correct.We can use mean squared error(MSE).But,MSE is more apt for forecasting values of continuous variables. So, we choose percentage correct to find accuracies of our classification models"
   ]
  },
  {
   "cell_type": "markdown",
   "metadata": {},
   "source": [
    "# K Nearest Neighbor\n",
    "\n",
    "While linear and logistic regression models make assumptions about the linearity between the features and the output labels, the k-nearest neighbors algorithm make no such assumption. "
   ]
  },
  {
   "cell_type": "code",
   "execution_count": 9,
   "metadata": {},
   "outputs": [],
   "source": [
    "def train_knn(k,train_features,train_target):\n",
    "    knn=KNeighborsClassifier(n_neighbors=k)\n",
    "    model=knn.fit(train_features,train_target)\n",
    "    return model\n",
    "\n",
    "def test_knn(model,test_features,test_target):\n",
    "    predictions=model.predict(test_features)\n",
    "    # Proportion of currectly predicted values \n",
    "    overall_accuracy = sum(test_target == predictions)/len(test_target)    \n",
    "    return overall_accuracy\n",
    "    \n",
    "def cross_validation_kfold(k,folds):\n",
    "    kf=KFold(n_splits=folds,shuffle=True,random_state=1)\n",
    "    validation_accuracies=[]\n",
    "    accuracies_train=[]\n",
    "    for train_index,test_index in kf.split(data):\n",
    "        train_features=data.loc[train_index]\n",
    "        test_features=data.loc[test_index]\n",
    "        train_target=target.loc[train_index]\n",
    "        test_target=target.loc[test_index]\n",
    "        model=train_knn(k,train_features,train_target)\n",
    "        # Validation test\n",
    "        accuracy_test=test_knn(model,test_features,test_target)\n",
    "        validation_accuracies.append(accuracy_test)\n",
    "        # training test\n",
    "        accuracy_train=test_knn(model,train_features,train_target)\n",
    "        accuracies_train.append(accuracy_train)\n",
    "    mean_accuracy_test=np.mean(validation_accuracies)\n",
    "    mean_accuracy_train=np.mean(accuracies_train)\n",
    "\n",
    "    return mean_accuracy_test,mean_accuracy_train\n",
    "    "
   ]
  },
  {
   "cell_type": "code",
   "execution_count": 10,
   "metadata": {},
   "outputs": [],
   "source": [
    "\n",
    "overall_accuracies_validation=[]\n",
    "overall_accuracies_train=[]\n",
    "\n",
    "for k in range(1,10):\n",
    "    accuracy=cross_validation_kfold(k,4)\n",
    "    overall_accuracies_validation.append(accuracy[0])\n",
    "    overall_accuracies_train.append(accuracy[1])\n",
    "\n",
    "\n",
    "  "
   ]
  },
  {
   "cell_type": "code",
   "execution_count": 11,
   "metadata": {},
   "outputs": [
    {
     "data": {
      "image/png": "[encoded data removed]",
      "text/plain": [
       "<Figure size 576x288 with 1 Axes>"
      ]
     },
     "metadata": {
      "needs_background": "light"
     },
     "output_type": "display_data"
    }
   ],
   "source": [
    "plt.figure(figsize=(8,4))\n",
    "plt.plot(range(1,10),overall_accuracies_validation,label=\"test\",color=\"green\")\n",
    "plt.plot(range(1,10),overall_accuracies_train,label=\"train\",color=\"red\")\n",
    "plt.xlabel(\"K values\")\n",
    "plt.ylabel(\"Accuracies\") \n",
    "plt.title(\"Accuracies of KNearestNeighbors model with 4 folds and varying k\")\n",
    "plt.legend()\n",
    "plt.show()"
   ]
  },
  {
   "cell_type": "code",
   "execution_count": 12,
   "metadata": {},
   "outputs": [
    {
     "data": {
      "text/plain": [
       "([1.0,\n",
       "  0.9912814552175513,\n",
       "  0.9931363299914746,\n",
       "  0.9907246623445001,\n",
       "  0.9905390647201496,\n",
       "  0.9892409828192774,\n",
       "  0.9892407074518823,\n",
       "  0.9873855573105637,\n",
       "  0.9868289021212101],\n",
       " [0.9827456075228903,\n",
       "  0.9805184360306854,\n",
       "  0.9855283345706509,\n",
       "  0.9849690670626082,\n",
       "  0.9832999257609502,\n",
       "  0.9805159613956941,\n",
       "  0.9821863400148477,\n",
       "  0.9816295471417965,\n",
       "  0.9788468200940361])"
      ]
     },
     "execution_count": 12,
     "metadata": {},
     "output_type": "execute_result"
    }
   ],
   "source": [
    "overall_accuracies_train,overall_accuracies_validation"
   ]
  },
  {
   "cell_type": "markdown",
   "metadata": {},
   "source": [
    "**We performed hyperparameterization to find most accuracy which is 98.55%. The optimal value is at k=3.** For all other values of k, accuracy score is decreasing. \n",
    "\n",
    "There are a few downsides to using k-nearest neighbors:\n",
    "- high memory usage (for each new unseen observation, many comparisons need to be made to seen observations)\n",
    "- no model representation to debug and explore\n",
    " \n",
    "After train/test model on both train and test dataset, we see same pattern with varying k values. Both, datasets performed well at k=3. However, accuracy for train dataset is 99.3% which is 0.7% more than test dataset.\n",
    "\n",
    "Let's see if MLPClassifier captures overfitting/underfitting."
   ]
  },
  {
   "cell_type": "markdown",
   "metadata": {},
   "source": [
    "# MLPClassifier Model\n",
    "\n",
    "### Number of hidden layers=1 and 4-Fold validation\n",
    "\n",
    "Let's now try a neural network with a single hidden layer. Use the MLPClassifier package from scikit-learn.\n",
    "\n",
    "### Overfitting/Underfitting in a model with only one layer of hidden neurons\n",
    "We will now attempt to discern at what number of neurons in a model with one hidden layer do we see either and or overfitting and underfitting. To determine this we will plot the accuracies of a model tested on the test_set against the saqme model tested on the training set that was used to fit it. We will illustrate this at each of the above stipulated number of hidden neurons to determine at which point we see the model underfit/overfit.\n",
    "\n"
   ]
  },
  {
   "cell_type": "code",
   "execution_count": 13,
   "metadata": {},
   "outputs": [],
   "source": [
    "def kfold_MLP(neuron_arch,folds):\n",
    "    kf=KFold(n_splits=folds,shuffle=True,random_state=2)\n",
    "    validation_accuracies=[]\n",
    "    accuracies_train=[]\n",
    "    for train_index,test_index in kf.split(data):\n",
    "        train_features=data.loc[train_index]\n",
    "        test_features=data.loc[test_index]\n",
    "        train_target=target.loc[train_index]\n",
    "        test_target=target.loc[test_index]\n",
    "        # hidden_layer_sizes: represents the number of neurons in the ith hidden layer.\n",
    "        mlp = MLPClassifier(hidden_layer_sizes=neuron_arch,random_state=2)\n",
    "        model=mlp.fit(train_features, train_target)\n",
    "        predictions = model.predict(test_features)\n",
    "        # Proportion of currectly predicted values \n",
    "        accuracy = sum(test_target == predictions)/len(test_target)   \n",
    "        validation_accuracies.append(accuracy)\n",
    "        predictions_train = model.predict(train_features)\n",
    "        # Proportion of currectly predicted values \n",
    "        accuracy_train = sum(train_target == predictions_train)/len(train_target)   \n",
    "        accuracies_train.append(accuracy_train)\n",
    "    train_accuracy=np.mean(accuracies_train)\n",
    "    validation_accuracy=np.mean(validation_accuracies)\n",
    "    return validation_accuracy, train_accuracy"
   ]
  },
  {
   "cell_type": "code",
   "execution_count": 14,
   "metadata": {},
   "outputs": [],
   "source": [
    "# function to plot graph with varying Kfolds and hidden layers\n",
    "\n",
    "def plot_accuracies_k_neurons(neurons,folds,layers):\n",
    "    test_accuracies=[]\n",
    "    train_accuracies=[]\n",
    "    for n in neurons:\n",
    "        x,y=kfold_MLP(n,folds)\n",
    "        test_accuracies.append(x)\n",
    "        train_accuracies.append(y)\n",
    "        print(\"Mean test accuracy at {} neurons:\".format(n[0]), x)\n",
    "    plt.figure(figsize=(8,4))\n",
    "    plt.title(\"Mean Accuracy vs. Neurons In {} Hidden Layer, with {} folds\".format(layers,folds))\n",
    "    x_values = [i[0] for i in neurons]\n",
    "    plt.plot(x_values, test_accuracies,label=\"test\",color=\"green\")\n",
    "    plt.plot(x_values, train_accuracies,label=\"train\",color=\"red\")\n",
    "    plt.legend()\n",
    "    plt.show()\n",
    "    return test_accuracies,train_accuracies"
   ]
  },
  {
   "cell_type": "code",
   "execution_count": 15,
   "metadata": {},
   "outputs": [
    {
     "name": "stderr",
     "output_type": "stream",
     "text": [
      "C:\\Users\\Anam-Zoheb\\Anaconda3\\lib\\site-packages\\sklearn\\neural_network\\multilayer_perceptron.py:566: ConvergenceWarning: Stochastic Optimizer: Maximum iterations (200) reached and the optimization hasn't converged yet.\n",
      "  % self.max_iter, ConvergenceWarning)\n",
      "C:\\Users\\Anam-Zoheb\\Anaconda3\\lib\\site-packages\\sklearn\\neural_network\\multilayer_perceptron.py:566: ConvergenceWarning: Stochastic Optimizer: Maximum iterations (200) reached and the optimization hasn't converged yet.\n",
      "  % self.max_iter, ConvergenceWarning)\n",
      "C:\\Users\\Anam-Zoheb\\Anaconda3\\lib\\site-packages\\sklearn\\neural_network\\multilayer_perceptron.py:566: ConvergenceWarning: Stochastic Optimizer: Maximum iterations (200) reached and the optimization hasn't converged yet.\n",
      "  % self.max_iter, ConvergenceWarning)\n",
      "C:\\Users\\Anam-Zoheb\\Anaconda3\\lib\\site-packages\\sklearn\\neural_network\\multilayer_perceptron.py:566: ConvergenceWarning: Stochastic Optimizer: Maximum iterations (200) reached and the optimization hasn't converged yet.\n",
      "  % self.max_iter, ConvergenceWarning)\n"
     ]
    },
    {
     "name": "stdout",
     "output_type": "stream",
     "text": [
      "Mean test accuracy at 8 neurons: 0.9298799802029201\n"
     ]
    },
    {
     "name": "stderr",
     "output_type": "stream",
     "text": [
      "C:\\Users\\Anam-Zoheb\\Anaconda3\\lib\\site-packages\\sklearn\\neural_network\\multilayer_perceptron.py:566: ConvergenceWarning: Stochastic Optimizer: Maximum iterations (200) reached and the optimization hasn't converged yet.\n",
      "  % self.max_iter, ConvergenceWarning)\n",
      "C:\\Users\\Anam-Zoheb\\Anaconda3\\lib\\site-packages\\sklearn\\neural_network\\multilayer_perceptron.py:566: ConvergenceWarning: Stochastic Optimizer: Maximum iterations (200) reached and the optimization hasn't converged yet.\n",
      "  % self.max_iter, ConvergenceWarning)\n",
      "C:\\Users\\Anam-Zoheb\\Anaconda3\\lib\\site-packages\\sklearn\\neural_network\\multilayer_perceptron.py:566: ConvergenceWarning: Stochastic Optimizer: Maximum iterations (200) reached and the optimization hasn't converged yet.\n",
      "  % self.max_iter, ConvergenceWarning)\n",
      "C:\\Users\\Anam-Zoheb\\Anaconda3\\lib\\site-packages\\sklearn\\neural_network\\multilayer_perceptron.py:566: ConvergenceWarning: Stochastic Optimizer: Maximum iterations (200) reached and the optimization hasn't converged yet.\n",
      "  % self.max_iter, ConvergenceWarning)\n"
     ]
    },
    {
     "name": "stdout",
     "output_type": "stream",
     "text": [
      "Mean test accuracy at 16 neurons: 0.9554875030932937\n",
      "Mean test accuracy at 32 neurons: 0.9682863152684978\n",
      "Mean test accuracy at 64 neurons: 0.9721826280623608\n",
      "Mean test accuracy at 128 neurons: 0.9755209106656768\n",
      "Mean test accuracy at 256 neurons: 0.9783036377134373\n"
     ]
    },
    {
     "data": {
      "image/png": "[encoded data removed]",
      "text/plain": [
       "<Figure size 576x288 with 1 Axes>"
      ]
     },
     "metadata": {
      "needs_background": "light"
     },
     "output_type": "display_data"
    }
   ],
   "source": [
    "nn_one_neurons = [\n",
    "    (8,),\n",
    "    (16,),\n",
    "    (32,),\n",
    "    (64,),\n",
    "    (128,),\n",
    "    (256,)\n",
    "]\n",
    "nn_one_accuracies_test = []\n",
    "nn_one_accuracies_train= []\n",
    "\n",
    "nn_one_accuracies_test,nn_one_accuracies_train=plot_accuracies_k_neurons(nn_one_neurons,4,1)\n",
    "\n"
   ]
  },
  {
   "cell_type": "code",
   "execution_count": 16,
   "metadata": {
    "scrolled": false
   },
   "outputs": [
    {
     "data": {
      "text/plain": [
       "[0.9298799802029201,\n",
       " 0.9554875030932937,\n",
       " 0.9682863152684978,\n",
       " 0.9721826280623608,\n",
       " 0.9755209106656768,\n",
       " 0.9783036377134373]"
      ]
     },
     "execution_count": 16,
     "metadata": {},
     "output_type": "execute_result"
    }
   ],
   "source": [
    "nn_one_accuracies_test"
   ]
  },
  {
   "cell_type": "code",
   "execution_count": 17,
   "metadata": {},
   "outputs": [
    {
     "data": {
      "text/plain": [
       "[0.9764439715468378, 0.9977740676610735, 1.0, 1.0, 1.0, 1.0]"
      ]
     },
     "execution_count": 17,
     "metadata": {},
     "output_type": "execute_result"
    }
   ],
   "source": [
    "nn_one_accuracies_train"
   ]
  },
  {
   "cell_type": "markdown",
   "metadata": {},
   "source": [
    "***REMARK***\n",
    "It looks like adding more neurons to the single hidden layer improved simple accuracy to approximately 97.8%. Simple accuracy computes the number of correct classifications the model made, but doesn't tell us anything about false or true positives or false or true negatives.\n",
    "\n",
    "At 256 neuron in single hidden layer achieved accuracy of 97.8%\n",
    "\n",
    "Given that k-nearest neighbors achieved approximately 98.55% accuracy, there doesn't seem to be any advantages to using a single hidden layer neural network for this problem."
   ]
  },
  {
   "cell_type": "markdown",
   "metadata": {},
   "source": [
    "### Number of hidden layers=2 and 4-Fold validation"
   ]
  },
  {
   "cell_type": "code",
   "execution_count": 18,
   "metadata": {
    "scrolled": false
   },
   "outputs": [
    {
     "name": "stderr",
     "output_type": "stream",
     "text": [
      "C:\\Users\\Anam-Zoheb\\Anaconda3\\lib\\site-packages\\sklearn\\neural_network\\multilayer_perceptron.py:566: ConvergenceWarning: Stochastic Optimizer: Maximum iterations (200) reached and the optimization hasn't converged yet.\n",
      "  % self.max_iter, ConvergenceWarning)\n",
      "C:\\Users\\Anam-Zoheb\\Anaconda3\\lib\\site-packages\\sklearn\\neural_network\\multilayer_perceptron.py:566: ConvergenceWarning: Stochastic Optimizer: Maximum iterations (200) reached and the optimization hasn't converged yet.\n",
      "  % self.max_iter, ConvergenceWarning)\n",
      "C:\\Users\\Anam-Zoheb\\Anaconda3\\lib\\site-packages\\sklearn\\neural_network\\multilayer_perceptron.py:566: ConvergenceWarning: Stochastic Optimizer: Maximum iterations (200) reached and the optimization hasn't converged yet.\n",
      "  % self.max_iter, ConvergenceWarning)\n",
      "C:\\Users\\Anam-Zoheb\\Anaconda3\\lib\\site-packages\\sklearn\\neural_network\\multilayer_perceptron.py:566: ConvergenceWarning: Stochastic Optimizer: Maximum iterations (200) reached and the optimization hasn't converged yet.\n",
      "  % self.max_iter, ConvergenceWarning)\n"
     ]
    },
    {
     "name": "stdout",
     "output_type": "stream",
     "text": [
      "Mean test accuracy at 8 neurons: 0.9170824053452116\n",
      "Mean test accuracy at 32 neurons: 0.9638381588715664\n",
      "Mean test accuracy at 64 neurons: 0.9694023756495918\n",
      "Mean test accuracy at 128 neurons: 0.9799715416975996\n",
      "Mean test accuracy at 256 neurons: 0.9827567433803515\n"
     ]
    },
    {
     "data": {
      "image/png": "[encoded data removed]",
      "text/plain": [
       "<Figure size 576x288 with 1 Axes>"
      ]
     },
     "metadata": {
      "needs_background": "light"
     },
     "output_type": "display_data"
    }
   ],
   "source": [
    "nn_two_neurons=[(8,8),(32,32),(64,64),(128,128),(256,256)]\n",
    "\n",
    "nn_two_accuracies_test,nn_two_accuracies_train=plot_accuracies_k_neurons(nn_two_neurons,4,2)"
   ]
  },
  {
   "cell_type": "code",
   "execution_count": 19,
   "metadata": {
    "scrolled": true
   },
   "outputs": [
    {
     "data": {
      "text/plain": [
       "[0.9170824053452116,\n",
       " 0.9638381588715664,\n",
       " 0.9694023756495918,\n",
       " 0.9799715416975996,\n",
       " 0.9827567433803515]"
      ]
     },
     "execution_count": 19,
     "metadata": {},
     "output_type": "execute_result"
    }
   ],
   "source": [
    "nn_two_accuracies_test"
   ]
  },
  {
   "cell_type": "code",
   "execution_count": 20,
   "metadata": {},
   "outputs": [
    {
     "data": {
      "text/plain": [
       "[0.9731037650433207, 1.0, 1.0, 1.0, 1.0]"
      ]
     },
     "execution_count": 20,
     "metadata": {},
     "output_type": "execute_result"
    }
   ],
   "source": [
    "nn_two_accuracies_train"
   ]
  },
  {
   "cell_type": "markdown",
   "metadata": {},
   "source": [
    "***REMARK***\n",
    "\n",
    "At 256 neurons with 2 hidden layer achieved accuracy of 98.27%, which 0.25% less accurate than K nearest neighbors model.\n",
    "\n",
    "Adding second hidden layer did show slight improvement over the previous model.\n",
    "\n",
    "Using more hidden layers is known to increase the amount of overfitting that happens. To help us prevent overfitting, let's increase the number of folds we use for k-fold cross validation to 6 while testing networks with 3 hidden layers.\n",
    "\n",
    "### Number of hidden layers=3 and 6-Fold validation"
   ]
  },
  {
   "cell_type": "code",
   "execution_count": 21,
   "metadata": {},
   "outputs": [
    {
     "name": "stderr",
     "output_type": "stream",
     "text": [
      "C:\\Users\\Anam-Zoheb\\Anaconda3\\lib\\site-packages\\sklearn\\neural_network\\multilayer_perceptron.py:566: ConvergenceWarning: Stochastic Optimizer: Maximum iterations (200) reached and the optimization hasn't converged yet.\n",
      "  % self.max_iter, ConvergenceWarning)\n",
      "C:\\Users\\Anam-Zoheb\\Anaconda3\\lib\\site-packages\\sklearn\\neural_network\\multilayer_perceptron.py:566: ConvergenceWarning: Stochastic Optimizer: Maximum iterations (200) reached and the optimization hasn't converged yet.\n",
      "  % self.max_iter, ConvergenceWarning)\n",
      "C:\\Users\\Anam-Zoheb\\Anaconda3\\lib\\site-packages\\sklearn\\neural_network\\multilayer_perceptron.py:566: ConvergenceWarning: Stochastic Optimizer: Maximum iterations (200) reached and the optimization hasn't converged yet.\n",
      "  % self.max_iter, ConvergenceWarning)\n",
      "C:\\Users\\Anam-Zoheb\\Anaconda3\\lib\\site-packages\\sklearn\\neural_network\\multilayer_perceptron.py:566: ConvergenceWarning: Stochastic Optimizer: Maximum iterations (200) reached and the optimization hasn't converged yet.\n",
      "  % self.max_iter, ConvergenceWarning)\n",
      "C:\\Users\\Anam-Zoheb\\Anaconda3\\lib\\site-packages\\sklearn\\neural_network\\multilayer_perceptron.py:566: ConvergenceWarning: Stochastic Optimizer: Maximum iterations (200) reached and the optimization hasn't converged yet.\n",
      "  % self.max_iter, ConvergenceWarning)\n",
      "C:\\Users\\Anam-Zoheb\\Anaconda3\\lib\\site-packages\\sklearn\\neural_network\\multilayer_perceptron.py:566: ConvergenceWarning: Stochastic Optimizer: Maximum iterations (200) reached and the optimization hasn't converged yet.\n",
      "  % self.max_iter, ConvergenceWarning)\n"
     ]
    },
    {
     "name": "stdout",
     "output_type": "stream",
     "text": [
      "Mean test accuracy at 8 neurons: 0.938792270531401\n"
     ]
    },
    {
     "name": "stderr",
     "output_type": "stream",
     "text": [
      "C:\\Users\\Anam-Zoheb\\Anaconda3\\lib\\site-packages\\sklearn\\neural_network\\multilayer_perceptron.py:566: ConvergenceWarning: Stochastic Optimizer: Maximum iterations (200) reached and the optimization hasn't converged yet.\n",
      "  % self.max_iter, ConvergenceWarning)\n",
      "C:\\Users\\Anam-Zoheb\\Anaconda3\\lib\\site-packages\\sklearn\\neural_network\\multilayer_perceptron.py:566: ConvergenceWarning: Stochastic Optimizer: Maximum iterations (200) reached and the optimization hasn't converged yet.\n",
      "  % self.max_iter, ConvergenceWarning)\n",
      "C:\\Users\\Anam-Zoheb\\Anaconda3\\lib\\site-packages\\sklearn\\neural_network\\multilayer_perceptron.py:566: ConvergenceWarning: Stochastic Optimizer: Maximum iterations (200) reached and the optimization hasn't converged yet.\n",
      "  % self.max_iter, ConvergenceWarning)\n",
      "C:\\Users\\Anam-Zoheb\\Anaconda3\\lib\\site-packages\\sklearn\\neural_network\\multilayer_perceptron.py:566: ConvergenceWarning: Stochastic Optimizer: Maximum iterations (200) reached and the optimization hasn't converged yet.\n",
      "  % self.max_iter, ConvergenceWarning)\n",
      "C:\\Users\\Anam-Zoheb\\Anaconda3\\lib\\site-packages\\sklearn\\neural_network\\multilayer_perceptron.py:566: ConvergenceWarning: Stochastic Optimizer: Maximum iterations (200) reached and the optimization hasn't converged yet.\n",
      "  % self.max_iter, ConvergenceWarning)\n",
      "C:\\Users\\Anam-Zoheb\\Anaconda3\\lib\\site-packages\\sklearn\\neural_network\\multilayer_perceptron.py:566: ConvergenceWarning: Stochastic Optimizer: Maximum iterations (200) reached and the optimization hasn't converged yet.\n",
      "  % self.max_iter, ConvergenceWarning)\n"
     ]
    },
    {
     "name": "stdout",
     "output_type": "stream",
     "text": [
      "Mean test accuracy at 16 neurons: 0.9521516164994427\n",
      "Mean test accuracy at 32 neurons: 0.9716313638052769\n",
      "Mean test accuracy at 64 neurons: 0.9716276477146043\n",
      "Mean test accuracy at 128 neurons: 0.9766387959866222\n",
      "Mean test accuracy at 256 neurons: 0.9771980676328503\n"
     ]
    },
    {
     "data": {
      "image/png": "[encoded data removed]",
      "text/plain": [
       "<Figure size 576x288 with 1 Axes>"
      ]
     },
     "metadata": {
      "needs_background": "light"
     },
     "output_type": "display_data"
    }
   ],
   "source": [
    "nn_three_neurons=[(8,8,8),(32,32,32),(64,64,64),(128,128,128),(256,256,256)]\n",
    "nn_three_accuracies_test,nn_three_accuracies_train = plot_accuracies_k_neurons(nn_one_neurons,6,3)\n",
    "\n"
   ]
  },
  {
   "cell_type": "code",
   "execution_count": 22,
   "metadata": {},
   "outputs": [
    {
     "data": {
      "text/plain": [
       "[0.938792270531401,\n",
       " 0.9521516164994427,\n",
       " 0.9716313638052769,\n",
       " 0.9716276477146043,\n",
       " 0.9766387959866222,\n",
       " 0.9771980676328503]"
      ]
     },
     "execution_count": 22,
     "metadata": {},
     "output_type": "execute_result"
    }
   ],
   "source": [
    "nn_three_accuracies_test"
   ]
  },
  {
   "cell_type": "code",
   "execution_count": 23,
   "metadata": {},
   "outputs": [
    {
     "data": {
      "text/plain": [
       "[0.9782974939643417, 0.9973291784577908, 1.0, 1.0, 1.0, 1.0]"
      ]
     },
     "execution_count": 23,
     "metadata": {},
     "output_type": "execute_result"
    }
   ],
   "source": [
    "nn_three_accuracies_train"
   ]
  },
  {
   "cell_type": "markdown",
   "metadata": {},
   "source": [
    "***REMARK***\n",
    "\n",
    "At 256 neurons with 3 hidden layer and 6 folds we achieved accuracy of 97.72%.This is less accurate than K nearest neighbors model and MLPClassifier with 2 hidden layers at 256 neurons.\n",
    "\n",
    "Adding third hidden layer didnot show improvement over the previous models.\n",
    "\n",
    "We have a scope to optimize parameters like learning rate and momentum instead of the hidden layers."
   ]
  },
  {
   "cell_type": "markdown",
   "metadata": {},
   "source": [
    "# Decision Tree and Random Forrests\n",
    "We will now attempt to use both a decision tree model and then a Randeom Forrest model to determine if we can get improved accuracy. Once we have done this we can compare the performance of each model in the project."
   ]
  },
  {
   "cell_type": "code",
   "execution_count": 24,
   "metadata": {},
   "outputs": [],
   "source": [
    "from sklearn.tree import DecisionTreeClassifier\n",
    "from sklearn.ensemble import RandomForestClassifier\n",
    "\n",
    "def decision_tree_kfold(folds,depth):\n",
    "    kf=KFold(n_splits=folds,shuffle=True,random_state=2)\n",
    "    validation_accuracies=[]\n",
    "    accuracies_train=[]\n",
    "    for train_index,test_index in kf.split(data):\n",
    "        train_features=data.loc[train_index]\n",
    "        test_features=data.loc[test_index]\n",
    "        train_target=target.loc[train_index]\n",
    "        test_target=target.loc[test_index]\n",
    "        dt=DecisionTreeClassifier(max_depth=depth,random_state=2)\n",
    "        model=dt.fit(train_features, train_target)\n",
    "        predictions = model.predict(test_features)\n",
    "        # Proportion of currectly predicted values \n",
    "        accuracy = sum(test_target == predictions)/len(test_target)   \n",
    "        validation_accuracies.append(accuracy)\n",
    "        predictions_train = model.predict(train_features)\n",
    "        # Proportion of currectly predicted values \n",
    "        accuracy_train = sum(train_target == predictions_train)/len(train_target)   \n",
    "        accuracies_train.append(accuracy_train)\n",
    "    train_accuracy=np.mean(accuracies_train)\n",
    "    validation_accuracy=np.mean(validation_accuracies)\n",
    "    return validation_accuracy, train_accuracy\n"
   ]
  },
  {
   "cell_type": "code",
   "execution_count": 25,
   "metadata": {},
   "outputs": [
    {
     "data": {
      "text/plain": [
       "<matplotlib.legend.Legend at 0x1e8406d4c50>"
      ]
     },
     "execution_count": 25,
     "metadata": {},
     "output_type": "execute_result"
    },
    {
     "data": {
      "image/png": "[encoded data removed]",
      "text/plain": [
       "<Figure size 576x288 with 1 Axes>"
      ]
     },
     "metadata": {
      "needs_background": "light"
     },
     "output_type": "display_data"
    }
   ],
   "source": [
    "validation_accuracies=[]\n",
    "train_accuracies=[]\n",
    "for depth in range(2,11):\n",
    "    x,y=decision_tree_kfold(4,depth)\n",
    "    validation_accuracies.append(x)\n",
    "    train_accuracies.append(y)\n",
    "    \n",
    "plt.figure(figsize=(8,4))\n",
    "plt.title(\"Accuracies Vs varying depth using Decision Tree with 4 folds\")\n",
    "plt.ylabel(\"Accuracies\")\n",
    "plt.xlabel(\"max_depth\")\n",
    "plt.plot(range(2,11),validation_accuracies,label=\"test\",color=\"green\")\n",
    "plt.plot(range(2,11),train_accuracies,label=\"train\",color=\"red\")\n",
    "plt.legend()\n",
    "\n",
    "    "
   ]
  },
  {
   "cell_type": "code",
   "execution_count": 26,
   "metadata": {
    "scrolled": true
   },
   "outputs": [
    {
     "data": {
      "text/plain": [
       "[0.287147983172482,\n",
       " 0.42904355357584756,\n",
       " 0.5436760702796337,\n",
       " 0.6499727790150953,\n",
       " 0.7529274931947538,\n",
       " 0.803012868101955,\n",
       " 0.8375142291512002,\n",
       " 0.8464179658500373,\n",
       " 0.8530970056916605]"
      ]
     },
     "execution_count": 26,
     "metadata": {},
     "output_type": "execute_result"
    }
   ],
   "source": [
    "validation_accuracies"
   ]
  },
  {
   "cell_type": "code",
   "execution_count": 27,
   "metadata": {},
   "outputs": [
    {
     "data": {
      "text/plain": [
       "<matplotlib.legend.Legend at 0x1e84084aa90>"
      ]
     },
     "execution_count": 27,
     "metadata": {},
     "output_type": "execute_result"
    },
    {
     "data": {
      "image/png": "[encoded data removed]",
      "text/plain": [
       "<Figure size 576x288 with 1 Axes>"
      ]
     },
     "metadata": {
      "needs_background": "light"
     },
     "output_type": "display_data"
    }
   ],
   "source": [
    "validation_accuracies_k6=[]\n",
    "train_accuracies_k6=[]\n",
    "for depth in range(2,10):\n",
    "    x,y=decision_tree_kfold(6,depth)\n",
    "    validation_accuracies_k6.append(x)\n",
    "    train_accuracies_k6.append(y)\n",
    "    \n",
    "plt.figure(figsize=(8,4))\n",
    "plt.title(\"Accuracies Vs varying depth using Decision Tree with 6 folds\")\n",
    "plt.ylabel(\"Accuracies\")\n",
    "plt.xlabel(\"max_depth\")\n",
    "plt.plot(range(2,10),validation_accuracies_k6,label=\"test\",color=\"green\")\n",
    "plt.plot(range(2,10),train_accuracies_k6,label=\"train\",color=\"red\")\n",
    "plt.legend()\n"
   ]
  },
  {
   "cell_type": "code",
   "execution_count": 28,
   "metadata": {
    "scrolled": true
   },
   "outputs": [
    {
     "data": {
      "text/plain": [
       "[0.3077331846897064,\n",
       " 0.4607673727238945,\n",
       " 0.5481363805276849,\n",
       " 0.6594425863991081,\n",
       " 0.7551709401709403,\n",
       " 0.8041397250092902,\n",
       " 0.8313935340022297,\n",
       " 0.8397342995169083]"
      ]
     },
     "execution_count": 28,
     "metadata": {},
     "output_type": "execute_result"
    }
   ],
   "source": [
    "validation_accuracies_k6"
   ]
  },
  {
   "cell_type": "code",
   "execution_count": 29,
   "metadata": {},
   "outputs": [
    {
     "data": {
      "text/plain": [
       "<matplotlib.legend.Legend at 0x1e840898cf8>"
      ]
     },
     "execution_count": 29,
     "metadata": {},
     "output_type": "execute_result"
    },
    {
     "data": {
      "image/png": "[encoded data removed]",
      "text/plain": [
       "<Figure size 576x288 with 1 Axes>"
      ]
     },
     "metadata": {
      "needs_background": "light"
     },
     "output_type": "display_data"
    }
   ],
   "source": [
    "validation_accuracies=[]\n",
    "train_accuracies=[]\n",
    "for depth in range(2,20):\n",
    "    x,y=decision_tree_kfold(4,depth)\n",
    "    validation_accuracies.append(x)\n",
    "    train_accuracies.append(y)\n",
    "    \n",
    "plt.figure(figsize=(8,4))\n",
    "plt.title(\"Accuracies Vs varying depth using Decision Tree with 4 folds\")\n",
    "plt.ylabel(\"Accuracies\")\n",
    "plt.xlabel(\"max_depth\")\n",
    "plt.plot(range(2,20),validation_accuracies,label=\"test\",color=\"green\")\n",
    "plt.plot(range(2,20),train_accuracies,label=\"train\",color=\"red\")\n",
    "plt.legend()"
   ]
  },
  {
   "cell_type": "code",
   "execution_count": 30,
   "metadata": {},
   "outputs": [
    {
     "data": {
      "text/plain": [
       "[0.287147983172482,\n",
       " 0.42904355357584756,\n",
       " 0.5436760702796337,\n",
       " 0.6499727790150953,\n",
       " 0.7529274931947538,\n",
       " 0.803012868101955,\n",
       " 0.8375142291512002,\n",
       " 0.8464179658500373,\n",
       " 0.8530970056916605,\n",
       " 0.851987131898045,\n",
       " 0.8497587230883445,\n",
       " 0.8530982430091562,\n",
       " 0.8525414501361049,\n",
       " 0.8536550358822074,\n",
       " 0.8536550358822074,\n",
       " 0.8536550358822074,\n",
       " 0.8536550358822074,\n",
       " 0.8536550358822074]"
      ]
     },
     "execution_count": 30,
     "metadata": {},
     "output_type": "execute_result"
    }
   ],
   "source": [
    "validation_accuracies"
   ]
  },
  {
   "cell_type": "markdown",
   "metadata": {},
   "source": [
    "***REMARK***\n",
    "\n",
    "Decision Tree model showed highest accuracy of 85.309% at max_depth of 10 with 4 fold cross validation. The accuracy tend to plateau at 10 and above max_depth. Model didn't show improvement when folds were increased. \n"
   ]
  },
  {
   "cell_type": "markdown",
   "metadata": {},
   "source": [
    "# Random Forest Model"
   ]
  },
  {
   "cell_type": "code",
   "execution_count": 31,
   "metadata": {},
   "outputs": [],
   "source": [
    "def train(train_features, train_target, n):\n",
    "    dt = RandomForestClassifier(n_estimators = n, bootstrap = True, random_state =1)\n",
    "    dt.fit(train_features, train_target)\n",
    "    return dt\n",
    "\n",
    "def test(model, test_features, test_target):\n",
    "    predictions = model.predict(test_features)\n",
    "    train_test_df = pd.DataFrame()\n",
    "    train_test_df['actual'] = test_target\n",
    "    train_test_df['predicted'] = predictions\n",
    "    test_accuracy = sum(train_test_df['predicted'] == train_test_df['actual'])/len(train_test_df)\n",
    "    return test_accuracy\n",
    "\n",
    "def cross_validate(n):\n",
    "    accuracies = {}\n",
    "    validation_accuracies = []\n",
    "    train_accuracies = []\n",
    "    kf = KFold(n_splits = 4, shuffle = True, random_state = 1)\n",
    "    for test_index, train_index in kf.split(data):\n",
    "        train_features, test_features = data.loc[train_index], data.loc[test_index]\n",
    "        test_labels, train_labels = target.loc[test_index], target.loc[train_index]\n",
    "        model = train(train_features, train_labels, n)        \n",
    "        test_accuracy = test(model, test_features, test_labels)\n",
    "        train_accuracy = test(model, train_features, train_labels)\n",
    "        validation_accuracies.append(test_accuracy)\n",
    "        train_accuracies.append(train_accuracy)\n",
    "    accuracies[train] = train_accuracies\n",
    "    accuracies[test] = validation_accuracies\n",
    "    return accuracies\n"
   ]
  },
  {
   "cell_type": "code",
   "execution_count": 32,
   "metadata": {},
   "outputs": [
    {
     "name": "stdout",
     "output_type": "stream",
     "text": [
      "{50: 0.9404534529969886, 100: 0.947132076115954, 150: 0.9469470292263938, 200: 0.9499148013279317}\n",
      "\n",
      "The optimal value for n_estimators of this random forest tree model is 200 which achieves an accuracy score of 0.9499148013279317\n"
     ]
    },
    {
     "data": {
      "image/png": "[encoded data removed]",
      "text/plain": [
       "<Figure size 576x288 with 1 Axes>"
      ]
     },
     "metadata": {
      "needs_background": "light"
     },
     "output_type": "display_data"
    },
    {
     "data": {
      "image/png": "[encoded data removed]",
      "text/plain": [
       "<Figure size 576x288 with 1 Axes>"
      ]
     },
     "metadata": {
      "needs_background": "light"
     },
     "output_type": "display_data"
    },
    {
     "data": {
      "image/png": "[encoded data removed]",
      "text/plain": [
       "<Figure size 576x288 with 1 Axes>"
      ]
     },
     "metadata": {
      "needs_background": "light"
     },
     "output_type": "display_data"
    },
    {
     "data": {
      "image/png": "[encoded data removed]",
      "text/plain": [
       "<Figure size 576x288 with 1 Axes>"
      ]
     },
     "metadata": {
      "needs_background": "light"
     },
     "output_type": "display_data"
    }
   ],
   "source": [
    "\n",
    "\n",
    "n_estimators_ = [50,100,150,200]\n",
    "accuracy_by_estimator_count = {}\n",
    "\n",
    "\n",
    "for n in n_estimators_:\n",
    "    plt.figure(figsize = (8,4))\n",
    "    accuracies = cross_validate(n)\n",
    "    mean_accuracy = np.mean(accuracies[test])\n",
    "    accuracy_by_estimator_count[n] = mean_accuracy\n",
    "    plt.plot(n_estimators_, accuracies[test], label = 'Test')\n",
    "    plt.plot(n_estimators_, accuracies[train], label = 'Train')\n",
    "    plt.legend(loc = 'lower right')\n",
    "    plt.ylim(0,1.1)\n",
    "    \n",
    "print(accuracy_by_estimator_count)\n",
    "print()\n",
    "print('The optimal value for n_estimators of this random forest tree model is', max(accuracy_by_estimator_count, key = accuracy_by_estimator_count.get),\n",
    "     'which achieves an accuracy score of', max(accuracy_by_estimator_count.values()))"
   ]
  },
  {
   "cell_type": "markdown",
   "metadata": {},
   "source": [
    "# Conclusion\n",
    "\n",
    "The results would suggest that, the most accurate model would be the K-nearest neighbors model with a prediction accuracy of about 98.55% at k=3. \n",
    "\n",
    "The neural networks models we created, showed accuracies lower than K Nearest Neighbors.The best performing neural network model was with two hidden layer, 256 neurons and 4 folds, achieving an accuracy of 98.27%. \n",
    "From this point onwards, adding more folds and layers didnot imporve the accuracy but dimished the accuracy of the model.\n",
    "\n",
    "\n",
    "On training Decision Tree models, the model showed highest accuracy of 85.309% at max_depth of 10 with 4 fold cross validation. The accuracy tend to plateau at 10 and above max_depth. Looking at the diagrams it seems that this model overfitted (as one would expect with Decision Tree Models), with an practically 100% accuracy on the training data but very poor accuracy on the test data.\n",
    "\n",
    "Conversely, when runninng the Random Forest model, we found that it was optimized at a value of 200 for the n_estimators parameter achieving an impressive mean prediction accuracy of just under 95%. \n",
    "\n",
    "\n",
    "Though Random Forest model accuracy is less than our other best performing models, the graphs suggests that so far it is the best model with less overfitting model over others. This model tend to perform well with new data compared to other models."
   ]
  }
 ],
 "metadata": {
  "anaconda-cloud": {},
  "kernelspec": {
   "display_name": "Python 3",
   "language": "python",
   "name": "python3"
  },
  "language_info": {
   "codemirror_mode": {
    "name": "ipython",
    "version": 3
   },
   "file_extension": ".py",
   "mimetype": "text/x-python",
   "name": "python",
   "nbconvert_exporter": "python",
   "pygments_lexer": "ipython3",
   "version": "3.7.3"
  }
 },
 "nbformat": 4,
 "nbformat_minor": 2
}
